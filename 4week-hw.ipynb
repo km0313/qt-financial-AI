{
 "cells": [
  {
   "attachments": {},
   "cell_type": "markdown",
   "metadata": {},
   "source": [
    "## problem 1."
   ]
  },
  {
   "attachments": {},
   "cell_type": "markdown",
   "metadata": {},
   "source": [
    "![3주차1번](https://github.com/km0313/qt-financial-AI/blob/main/3week-ex1.jpg?raw=True)"
   ]
  },
  {
   "attachments": {},
   "cell_type": "markdown",
   "metadata": {},
   "source": [
    "https://blogs.sas.com/content/iml/2018/07/11/probability-two-chords-intersect.html"
   ]
  },
  {
   "attachments": {},
   "cell_type": "markdown",
   "metadata": {},
   "source": [
    "![3주차1번-1](https://github.com/km0313/qt-financial-AI/blob/main/3week-ex1-1.jpg?raw=True)"
   ]
  },
  {
   "attachments": {},
   "cell_type": "markdown",
   "metadata": {},
   "source": [
    "## problem 2. (a)(b)"
   ]
  },
  {
   "attachments": {},
   "cell_type": "markdown",
   "metadata": {},
   "source": [
    "![3주차2번](https://github.com/km0313/qt-financial-AI/blob/main/3week-ex2.jpg?raw=True)"
   ]
  },
  {
   "attachments": {},
   "cell_type": "markdown",
   "metadata": {},
   "source": [
    "## problem2 (c)<br>\n",
    "let's Head is 1, tail is 0 in python<br>\n",
    "let's player win as 'p' and dealer win as 'd'<br>\n",
    "default value is fair coin(head prob=0.5) and 100 games<br>"
   ]
  },
  {
   "cell_type": "code",
   "execution_count": 9,
   "metadata": {},
   "outputs": [
    {
     "data": {
      "text/plain": [
       "0.54"
      ]
     },
     "execution_count": 9,
     "metadata": {},
     "output_type": "execute_result"
    }
   ],
   "source": [
    "import random \n",
    "def demogame(h_prob=0.5,totalgame=100):\n",
    "    result=[]\n",
    "    for j in range(totalgame):\n",
    "        count=0\n",
    "        for i in range(4):\n",
    "            count+=random.choices((0,1),weights=[1-h_prob,h_prob])[0]\n",
    "        if count==2 or count==4:\n",
    "            result.append('p')\n",
    "        else:\n",
    "            result.append('d')\n",
    "    return result.count('d')/totalgame\n",
    "\n",
    "demogame()\n",
    "    \n",
    "    "
   ]
  },
  {
   "attachments": {},
   "cell_type": "markdown",
   "metadata": {},
   "source": [
    "let's try if game goes on 1000, 10000,..."
   ]
  },
  {
   "cell_type": "code",
   "execution_count": 10,
   "metadata": {},
   "outputs": [
    {
     "name": "stdout",
     "output_type": "stream",
     "text": [
      "0.47\n",
      "0.57\n",
      "0.47\n",
      "0.58\n",
      "0.48\n"
     ]
    }
   ],
   "source": [
    "for i in [1000,10000,100000,1000000,10000000]:\n",
    "    print(demogame())"
   ]
  },
  {
   "attachments": {},
   "cell_type": "markdown",
   "metadata": {},
   "source": [
    "let's think about if there is check coin that h_prop=0.55"
   ]
  },
  {
   "cell_type": "code",
   "execution_count": 14,
   "metadata": {},
   "outputs": [
    {
     "name": "stdout",
     "output_type": "stream",
     "text": [
      "0.54\n",
      "0.57\n",
      "0.52\n",
      "0.51\n",
      "0.5\n",
      "0.51\n"
     ]
    }
   ],
   "source": [
    "for i in [100,1000,10000,100000,1000000,10000000]:\n",
    "    print(demogame(0.55))"
   ]
  },
  {
   "attachments": {},
   "cell_type": "markdown",
   "metadata": {},
   "source": [
    "there is some dramatic player wins prob exceed 0.5 but usually it does not"
   ]
  }
 ],
 "metadata": {
  "kernelspec": {
   "display_name": "Upbitapi",
   "language": "python",
   "name": "python3"
  },
  "language_info": {
   "codemirror_mode": {
    "name": "ipython",
    "version": 3
   },
   "file_extension": ".py",
   "mimetype": "text/x-python",
   "name": "python",
   "nbconvert_exporter": "python",
   "pygments_lexer": "ipython3",
   "version": "3.10.8"
  },
  "orig_nbformat": 4,
  "vscode": {
   "interpreter": {
    "hash": "993d84a98b7cee82f1e563ac468960c470c7428729960f1d636e6fa521de2a86"
   }
  }
 },
 "nbformat": 4,
 "nbformat_minor": 2
}
